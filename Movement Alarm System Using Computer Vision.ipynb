{
 "cells": [
  {
   "cell_type": "code",
   "execution_count": 2,
   "id": "bf2ed8ba",
   "metadata": {},
   "outputs": [],
   "source": [
    "import numpy as np\n",
    "import pandas as pd\n",
    "import cv2\n",
    "import matplotlib.pyplot\n",
    "import os\n",
    "import imutils\n",
    "import winsound\n",
    "import threading"
   ]
  },
  {
   "cell_type": "code",
   "execution_count": 2,
   "id": "6506f993",
   "metadata": {},
   "outputs": [
    {
     "name": "stdout",
     "output_type": "stream",
     "text": [
      "Alarm\n",
      "Alarm\n",
      "Alarm\n",
      "Alarm\n",
      "Alarm\n"
     ]
    }
   ],
   "source": [
    "#initial frame\n",
    "cap=cv2.VideoCapture(0,cv2.CAP_DSHOW)\n",
    "#to set window size\n",
    "cap.set(cv2.CAP_PROP_FRAME_WIDTH,640)\n",
    "cap.set(cv2.CAP_PROP_FRAME_HEIGHT,480)\n",
    "ret,start_frame=cap.read()\n",
    "#adjust the width of frame\n",
    "start_frame=imutils.resize(start_frame,width=500)\n",
    "start_frame=cv2.flip(start_frame,1)\n",
    "    \n",
    "##converting image into the greyscale image\n",
    "start_frame=cv2.cvtColor(start_frame,cv2.COLOR_BGR2GRAY)\n",
    "#To smoothen the image\n",
    "start_frame=cv2.GaussianBlur(start_frame,(21,21),0)\n",
    "alarm=False\n",
    "alarm_mode=False\n",
    "alarm_counter=0\n",
    "\n",
    "#called via thread\n",
    "def beep_alarm():\n",
    "    global alarm\n",
    "    for _ in range(5):\n",
    "        if not alarm_mode:\n",
    "            break\n",
    "        print(\"Alarm\")\n",
    "        winsound.Beep(1000,2000)#25000 is frequency and 1000 mili-seconds\n",
    "    alarm=False\n",
    "    \n",
    "#Comparison frame\n",
    "while cap.isOpened():\n",
    "    _,frame=cap.read()\n",
    "    frame=imutils.resize(frame,width=500)\n",
    "    if alarm_mode:\n",
    "    #if we are in alarm mode we are going to calculate differnces whether we are in alarm mode or not\n",
    "        frame_bw=cv2.cvtColor(frame,cv2.COLOR_BGR2GRAY)\n",
    "        #for smoothing\n",
    "        frame_bw=cv2.GaussianBlur(frame_bw,(5,5),0)\n",
    "        \n",
    "        #calculating the absolute difference b/w starting frame and the current frame\n",
    "        difference=cv2.absdiff(frame_bw,start_frame)\n",
    "        \n",
    "        #Every Pixel that is above that threshold is 255 and below that threshold is 0\n",
    "        threshold=cv2.threshold(difference,25,255,cv2.THRESH_BINARY)[1] #everything above 25 will be set to 255 other 0\n",
    "        start_frame=frame_bw #for next iteration frame_bw is start_frame\n",
    "        threshold=cv2.flip(threshold,1)\n",
    "        if threshold.sum()>300: #if set smaller value small movement can also cause alarm\n",
    "            alarm_counter+=1\n",
    "        else:#if not that much movement\n",
    "            if alarm_counter>0:\n",
    "                alarm_counter-=1\n",
    "        cv2.imshow('cam',threshold) #show threshold image\n",
    "    else:\n",
    "        frame=cv2.flip(frame,1)\n",
    "        cv2.imshow('cam',frame)\n",
    "    if alarm_counter>30:\n",
    "        if not alarm:\n",
    "            alarm=True\n",
    "            threading.Thread(target=beep_alarm).start() \n",
    "    key_pressed=cv2.waitKey(25)\n",
    "    if key_pressed==ord('t'):\n",
    "        alarm_mode=not alarm_mode\n",
    "        alarm_counter=0\n",
    "    if key_pressed==ord('q'):\n",
    "        alarm_model=False      \n",
    "        break\n",
    "cap.release()\n",
    "cv2.destroyAllWindows()"
   ]
  },
  {
   "cell_type": "code",
   "execution_count": null,
   "id": "006d22ea",
   "metadata": {},
   "outputs": [],
   "source": [
    "# Apply Gaussian blur\n",
    "# Parameters:\n",
    "#   src: input image\n",
    "#   ksize: kernel size (specifies the Gaussian kernel size). It should be an odd number\n",
    "#   sigmaX: Gaussian kernel standard deviation in X direction\n",
    "#   sigmaY: Gaussian kernel standard deviation in Y direction. If sigmaY is zero, it is set to be equal to sigmaX.\n",
    "# blurred_image = cv2.GaussianBlur(image, (ksize_width, ksize_height), sigmaX, sigmaY)"
   ]
  },
  {
   "cell_type": "code",
   "execution_count": null,
   "id": "30163c74",
   "metadata": {},
   "outputs": [],
   "source": [
    "import cv2\n",
    "import numpy as np\n",
    "\n",
    "video_path = 'WHATSAAP ASSIGNMENT.mp4'\n",
    "\n",
    "cap = cv2.VideoCapture(video_path)\n",
    "while cap.isOpened():\n",
    "    ret, frame = cap.read()\n",
    "    if not ret:\n",
    "        break\n",
    "    \n",
    "    hsv = cv2.cvtColor(frame, cv2.COLOR_BGR2HSV)\n",
    "    lower_yellow = np.array([18, 100, 100])  # Lower bound for yellow in HSV\n",
    "    upper_yellow = np.array([30, 255, 255])  # Upper bound for yellow in HSV\n",
    "    mask = cv2.inRange(hsv, lower_yellow, upper_yellow)  # Create a mask for yellow pixels\n",
    "    res = cv2.bitwise_and(frame, frame, mask=mask)  # Apply the mask to extract yellow regions\n",
    "#     cv2.imshow('Frame', res)\n",
    "    # Combine original frame with masked frame\n",
    "    result = cv2.addWeighted(frame, 1, res, 1, 0)\n",
    "#     cv2.imshow('Original Frame', frame)\n",
    "    cv2.imshow('Yellow Regions', result)\n",
    "    \n",
    "    if cv2.waitKey(25) & 0xFF == ord('q'):\n",
    "        break\n",
    "\n",
    "cap.release()\n",
    "cv2.destroyAllWindows()"
   ]
  },
  {
   "cell_type": "code",
   "execution_count": 5,
   "id": "8534121e",
   "metadata": {},
   "outputs": [],
   "source": []
  },
  {
   "cell_type": "code",
   "execution_count": null,
   "id": "3ee3ce1f",
   "metadata": {},
   "outputs": [],
   "source": []
  }
 ],
 "metadata": {
  "kernelspec": {
   "display_name": "Python 3 (ipykernel)",
   "language": "python",
   "name": "python3"
  },
  "language_info": {
   "codemirror_mode": {
    "name": "ipython",
    "version": 3
   },
   "file_extension": ".py",
   "mimetype": "text/x-python",
   "name": "python",
   "nbconvert_exporter": "python",
   "pygments_lexer": "ipython3",
   "version": "3.9.13"
  }
 },
 "nbformat": 4,
 "nbformat_minor": 5
}
